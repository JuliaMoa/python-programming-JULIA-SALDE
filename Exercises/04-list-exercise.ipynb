{
 "cells": [
  {
   "cell_type": "markdown",
   "metadata": {},
   "source": [
    "<a href=\"https://colab.research.google.com/github/pr0fez/AI24-Programmering/blob/master/Exercises/04-list-exercise.ipynb\" target=\"_parent\"><img align=\"left\" src=\"https://colab.research.google.com/assets/colab-badge.svg\" alt=\"Open In Colab\"/></a> &nbsp; to see hints and answers."
   ]
  },
  {
   "cell_type": "markdown",
   "metadata": {},
   "source": [
    "# list exercises\n",
    "\n",
    "---\n",
    "These are introductory exercises in Python with focus in **lists**.\n",
    "\n",
    "<p class = \"alert alert-info\" role=\"alert\"><b>Remember</b> to use <b>descriptive variable names</b> in order to get readable code </p>\n",
    "\n",
    "<p class = \"alert alert-info\" role=\"alert\"><b>Remember</b> to format your answers in a neat way using <b>f-strings</b>\n",
    "\n",
    "<p class = \"alert alert-info\" role=\"alert\"><b>Remember</b> to format your input questions in a pedagogical way to guide the user\n",
    "\n",
    "The number of stars (\\*), (\\*\\*), (\\*\\*\\*) denotes the difficulty level of the task\n",
    "\n",
    "---"
   ]
  },
  {
   "cell_type": "markdown",
   "metadata": {},
   "source": [
    "## 1. Dice rolls (*)\n",
    "\n",
    "Simulate 10 dice rolls and **append** the rolls to a list or use **list comprehension**.\n",
    "\n",
    "&nbsp; a) &nbsp; sort the list in **ascending** order (*)\n",
    "\n",
    "&nbsp; b) &nbsp; sort the list in **descending** order (*)\n",
    "\n",
    "&nbsp; c) &nbsp; find the **maximum** and **minimum** value in the list (*)\n",
    "\n",
    "\n",
    "<details>\n",
    "\n",
    "<summary>Answer </summary>\n",
    "\n",
    "a)\n",
    "```\n",
    "Ascending order: [1, 1, 2, 3, 4, 4, 4, 5, 6, 6]\n",
    "```\n",
    "\n",
    "b) \n",
    "```\n",
    "Descending order: [6, 6, 5, 4, 4, 4, 3, 2, 1, 1]\n",
    "```\n",
    "\n",
    "c) \n",
    "```\n",
    "Maximum: 6\n",
    "Minimum: 1\n",
    "```\n",
    "\n",
    "</details>\n",
    "\n",
    "\n"
   ]
  },
  {
   "cell_type": "code",
   "execution_count": 17,
   "metadata": {},
   "outputs": [
    {
     "name": "stdout",
     "output_type": "stream",
     "text": [
      "[1, 3, 3, 3, 3, 5, 6, 6, 6, 6]\n",
      "[6, 6, 6, 6, 5, 3, 3, 3, 3, 1]\n",
      "Min: 1\n",
      "Max: 6\n"
     ]
    }
   ],
   "source": [
    "#gör igen - svårt med for loop!!\n",
    "\n",
    "import random as rnd\n",
    "\n",
    "dice_throws = [] \n",
    "\n",
    "for throw in range(10):\n",
    "    roll = rnd.randint(1,6)\n",
    "    dice_throws.append(roll)\n",
    "\n",
    "#a\n",
    "\n",
    "dice_throws.sort()\n",
    "print(dice_throws)\n",
    "\n",
    "#b\n",
    "\n",
    "dice_throws.sort(reverse = True)\n",
    "print(dice_throws)\n",
    "\n",
    "#c\n",
    "print(f\"Min: {min(dice_throws)}\")\n",
    "print(f\"Max: {max(dice_throws)}\")\n",
    "\n",
    "\n",
    "\n",
    "\n"
   ]
  },
  {
   "cell_type": "markdown",
   "metadata": {},
   "source": [
    "--- \n",
    "## 2. Food menu (*)\n",
    "\n",
    "Create a:  \n",
    "\n",
    "&nbsp; a) &nbsp; **list** with the following elements: \"vegetarisk lasagne\", \"spaghetti\", \"fisk\", \"grönsakssoppa\", \"pannkakor\". (*)\n",
    "\n",
    "&nbsp; b) &nbsp; **list** with the weekdays (*)\n",
    "\n",
    "&nbsp; c) &nbsp; create a food menu with each day corresponding to each food item and print it out. (*)\n",
    "\n",
    "<details>\n",
    "\n",
    "<summary>Answer</summary>\n",
    "\n",
    "c) \n",
    "```\n",
    "Bambameny\n",
    "Mån: vegetarisk lasagne\n",
    "Tis: spaghetti\n",
    "Ons: fisk\n",
    "Tor: grönsakssoppa\n",
    "Fre: pannkakor\n",
    "```\n",
    "\n",
    "</details>"
   ]
  },
  {
   "cell_type": "code",
   "execution_count": 23,
   "metadata": {},
   "outputs": [
    {
     "name": "stdout",
     "output_type": "stream",
     "text": [
      "Monday : vegetarisk lasagne\n",
      "Tuesday : spaghetti\n",
      "Wednesday : fisk\n",
      "Thursday : grönsakssoppa\n",
      "Friday : pannkakor\n"
     ]
    },
    {
     "ename": "IndexError",
     "evalue": "list index out of range",
     "output_type": "error",
     "traceback": [
      "\u001b[31m---------------------------------------------------------------------------\u001b[39m",
      "\u001b[31mIndexError\u001b[39m                                Traceback (most recent call last)",
      "\u001b[36mCell\u001b[39m\u001b[36m \u001b[39m\u001b[32mIn[23]\u001b[39m\u001b[32m, line 7\u001b[39m\n\u001b[32m      3\u001b[39m weekdays = [\u001b[33m\"\u001b[39m\u001b[33mMonday\u001b[39m\u001b[33m\"\u001b[39m, \u001b[33m\"\u001b[39m\u001b[33mTuesday\u001b[39m\u001b[33m\"\u001b[39m, \u001b[33m\"\u001b[39m\u001b[33mWednesday\u001b[39m\u001b[33m\"\u001b[39m, \u001b[33m\"\u001b[39m\u001b[33mThursday\u001b[39m\u001b[33m\"\u001b[39m, \u001b[33m\"\u001b[39m\u001b[33mFriday\u001b[39m\u001b[33m\"\u001b[39m, \u001b[33m\"\u001b[39m\u001b[33mSaturday\u001b[39m\u001b[33m\"\u001b[39m, \u001b[33m\"\u001b[39m\u001b[33mSunday\u001b[39m\u001b[33m\"\u001b[39m]\n\u001b[32m      5\u001b[39m \u001b[38;5;28;01mfor\u001b[39;00m i \u001b[38;5;129;01min\u001b[39;00m [\u001b[32m0\u001b[39m, \u001b[32m1\u001b[39m, \u001b[32m2\u001b[39m, \u001b[32m3\u001b[39m, \u001b[32m4\u001b[39m, \u001b[32m5\u001b[39m, \u001b[32m6\u001b[39m]:\n\u001b[32m----> \u001b[39m\u001b[32m7\u001b[39m     \u001b[38;5;28mprint\u001b[39m(weekdays[i], \u001b[33m\"\u001b[39m\u001b[33m:\u001b[39m\u001b[33m\"\u001b[39m, \u001b[43mfood\u001b[49m\u001b[43m[\u001b[49m\u001b[43mi\u001b[49m\u001b[43m]\u001b[49m)\n",
      "\u001b[31mIndexError\u001b[39m: list index out of range"
     ]
    }
   ],
   "source": [
    "food = [\"vegetarisk lasagne\", \"spaghetti\", \"fisk\", \"grönsakssoppa\", \"pannkakor\"]\n",
    "\n",
    "weekdays = [\"Monday\", \"Tuesday\", \"Wednesday\", \"Thursday\", \"Friday\", \"Saturday\", \"Sunday\"]\n",
    "\n",
    "for i in [0, 1, 2, 3, 4, 5, 6]:\n",
    "\n",
    "    print(weekdays[i], \":\", food[i])\n",
    "\n"
   ]
  },
  {
   "cell_type": "markdown",
   "metadata": {},
   "source": [
    "--- \n",
    "## 3. Squares (*)\n",
    "\n",
    "&nbsp; a) &nbsp; Use **list comprehension** to create a list of squares from -10 to 10 (*)\n",
    "\n",
    "&nbsp; a) &nbsp; Plot this list using **matplotlib**. (*)\n",
    "\n",
    "<details>\n",
    "\n",
    "<summary>Answer</summary>\n",
    "\n",
    "a)\n",
    "```\n",
    "[100, 81, 64, 49, 36, 25, 16, 9, 4, 1, 0, 1, 4, 9, 16, 25, 36, 49, 64, 81, 100]\n",
    "```\n",
    "\n",
    "b) \n",
    "\n",
    "<img align=\"left\" src=\"../assets/x^2_graph.png\" width=\"300\"/>\n",
    "</details>"
   ]
  },
  {
   "cell_type": "code",
   "execution_count": null,
   "metadata": {},
   "outputs": [
    {
     "name": "stdout",
     "output_type": "stream",
     "text": [
      "[100, 81, 64, 49, 36, 25, 16, 9, 4, 1, 0, 1, 4, 9, 16, 25, 36, 49, 64, 81, 100]\n"
     ]
    },
    {
     "data": {
      "text/plain": [
       "<function matplotlib.pyplot.show(close=None, block=None)>"
      ]
     },
     "execution_count": 47,
     "metadata": {},
     "output_type": "execute_result"
    },
    {
     "data": {
      "image/png": "[encoded data removed]",
      "text/plain": [
       "<Figure size 640x480 with 1 Axes>"
      ]
     },
     "metadata": {},
     "output_type": "display_data"
    }
   ],
   "source": [
    "#a - Jaaaaa - klarade med själv av w3schools ingen chatgpt\n",
    "\n",
    "import numpy as np\n",
    "\n",
    "#first_list = [-10, -9, -8, -7, -6, -5, -4, -3, -2, -1, 0, 1, 2, 3, 4, 5, 6, 7, 8, 9, 10]\n",
    "\n",
    "first_list = range(-10,11)\n",
    "\n",
    "newlist = [x**2 for x in first_list]\n",
    "\n",
    "print(newlist)\n",
    "\n",
    "#b\n",
    "\n",
    "import matplotlib.pyplot as plt\n",
    "\n",
    "plt.plot(first_list, newlist,'--',color = 'red')\n",
    "plt.show "
   ]
  },
  {
   "cell_type": "code",
   "execution_count": null,
   "metadata": {},
   "outputs": [
    {
     "data": {
      "text/plain": [
       "[2, 'dfkls']"
      ]
     },
     "execution_count": 49,
     "metadata": {},
     "output_type": "execute_result"
    }
   ],
   "source": []
  },
  {
   "cell_type": "markdown",
   "metadata": {},
   "source": [
    "---\n",
    "## 4. Chessboard (**)\n",
    "\n",
    "&nbsp; a) &nbsp; Create this list using **list comprehension**: (*)\n",
    "\n",
    "```python\n",
    "['A1', 'B1', 'C1', 'D1', 'E1', 'F1', 'G1', 'H1']\n",
    "```\n",
    "\n",
    "&nbsp; b) &nbsp; Create a 2D list to hold the coordinates in a chessboard. (**)\n",
    "\n",
    "<details>\n",
    "\n",
    "<summary>Hint</summary>\n",
    "\n",
    "b) Use **f-string** and create a list of characters with: \n",
    "\n",
    "```python\n",
    "list(\"ABCDEFGH)\n",
    "```\n",
    "\n",
    "b) One option is to use nested list comprehension where one for-loop creates the first list and the other creates several of the first list\n",
    "\n",
    "</details>\n",
    "\n",
    "\n",
    "<details>\n",
    "\n",
    "<summary>Answer</summary>\n",
    "\n",
    "b)\n",
    "```\n",
    "[['A1', 'B1', 'C1', 'D1', 'E1', 'F1', 'G1', 'H1'],\n",
    " ['A2', 'B2', 'C2', 'D2', 'E2', 'F2', 'G2', 'H2'],\n",
    " ['A3', 'B3', 'C3', 'D3', 'E3', 'F3', 'G3', 'H3'],\n",
    " ['A4', 'B4', 'C4', 'D4', 'E4', 'F4', 'G4', 'H4'],\n",
    " ['A5', 'B5', 'C5', 'D5', 'E5', 'F5', 'G5', 'H5'],\n",
    " ['A6', 'B6', 'C6', 'D6', 'E6', 'F6', 'G6', 'H6'],\n",
    " ['A7', 'B7', 'C7', 'D7', 'E7', 'F7', 'G7', 'H7'],\n",
    " ['A8', 'B8', 'C8', 'D8', 'E8', 'F8', 'G8', 'H8']]\n",
    "```\n",
    "\n",
    "</details>"
   ]
  },
  {
   "cell_type": "code",
   "execution_count": 65,
   "metadata": {},
   "outputs": [
    {
     "name": "stdout",
     "output_type": "stream",
     "text": [
      "['A1', 'B1', 'C1', 'D1', 'E1', 'F1', 'G1', 'H1']\n"
     ]
    }
   ],
   "source": [
    "#letters = [\"A\", \"B\", \"C\", \"D\", \"E\", \"F\", \"G\", \"H\"]\n",
    "\n",
    "letters = list(\"ABCDEFGH\")\n",
    "new_letters = [x + \"1\" for x in letters]\n",
    "print(new_letters)"
   ]
  },
  {
   "cell_type": "code",
   "execution_count": null,
   "metadata": {},
   "outputs": [
    {
     "name": "stdout",
     "output_type": "stream",
     "text": [
      "['A1', 'B1', 'C1', 'D1', 'E1', 'F1', 'G1', 'H1']\n",
      "['A2', 'B2', 'C2', 'D2', 'E2', 'F2', 'G2', 'H2']\n",
      "['A3', 'B3', 'C3', 'D3', 'E3', 'F3', 'G3', 'H3']\n",
      "['A4', 'B4', 'C4', 'D4', 'E4', 'F4', 'G4', 'H4']\n",
      "['A5', 'B5', 'C5', 'D5', 'E5', 'F5', 'G5', 'H5']\n",
      "['A6', 'B6', 'C6', 'D6', 'E6', 'F6', 'G6', 'H6']\n",
      "['A7', 'B7', 'C7', 'D7', 'E7', 'F7', 'G7', 'H7']\n",
      "['A8', 'B8', 'C8', 'D8', 'E8', 'F8', 'G8', 'H8']\n"
     ]
    }
   ],
   "source": [
    "#Grymt bra gjort med endast lite felsökning i chatten\n",
    "i = 1\n",
    "\n",
    "for y in letters: \n",
    "    second_list = [x + str(i) for x in letters]\n",
    "    print(second_list)\n",
    "    i += 1\n"
   ]
  },
  {
   "cell_type": "markdown",
   "metadata": {},
   "source": [
    "---\n",
    "## 5. Dice rolls convergence (**)\n",
    "\n",
    "Simulate: \n",
    "\n",
    "&nbsp; a) &nbsp; 100 dice rolls and count the number of outcome six. (*)\n",
    "\n",
    "&nbsp; b) &nbsp; 10, 100, 1000, 10000, 100000, 1000000 dice rolls. Count the number of outcome six in each simulation and store it in a list. Compute the probability of outcome six in each simulation. (**)\n",
    "\n",
    "&nbsp; c) &nbsp; Use matplotlib to plot this list. (*)\n",
    "\n",
    "<details>\n",
    "\n",
    "<summary>Hint </summary>\n",
    "\n",
    "Use this code for plot settings: \n",
    "\n",
    "```python\n",
    "plt.plot(probability_six, '-*')\n",
    "plt.title(\"Probability of six for different number of rolls\")\n",
    "plt.xticks([0,1,2,3,4,5], num_rolls);\n",
    "plt.xlabel(\"Number of dice rolls\")\n",
    "plt.ylabel(\"Probability\")\n",
    "\n",
    "```\n",
    "</details>\n",
    "\n",
    "<details>\n",
    "\n",
    "<summary>Answer </summary>\n",
    "\n",
    "a)\n",
    "```\n",
    "The number of outcome six in 100 dice rolls is: 17 \n",
    "```\n",
    "\n",
    "b) \n",
    "```\n",
    "Count number of six: [1, 21, 161, 1642, 16560, 166406]\n",
    "P(six) = [0.1, 0.21, 0.161, 0.1642, 0.1656, 0.1664]\n",
    "```\n",
    "\n",
    "c) Note that the graph changes due to random simulation. To reproduce this result, use \n",
    "\n",
    "```python\n",
    "random.seed(1)\n",
    "```\n",
    "\n",
    "<img align=\"left\" src=\"../assets/probability_six_graph.png\" width=\"300\"/>\n",
    "\n",
    "</details>"
   ]
  },
  {
   "cell_type": "code",
   "execution_count": 24,
   "metadata": {},
   "outputs": [
    {
     "name": "stdout",
     "output_type": "stream",
     "text": [
      "[2, 2, 3, 5, 5, 3, 4, 2, 3, 1, 4, 5, 1, 6, 3, 1, 5, 4, 1, 4, 1, 6, 5, 1, 6, 1, 5, 4, 5, 4, 5, 4, 5, 1, 3, 4, 2, 5, 2, 2, 2, 1, 1, 3, 4, 4, 2, 1, 1, 4, 6, 5, 1, 4, 6, 2, 2, 2, 6, 1, 3, 2, 1, 1, 4, 4, 1, 1, 3, 6, 2, 3, 3, 1, 2, 5, 4, 5, 1, 6, 4, 3, 3, 4, 5, 6, 4, 1, 2, 1, 6, 1, 5, 6, 6, 3, 2, 3, 2, 3]\n",
      "The amount of 6's in 100 rolls is: 12\n"
     ]
    }
   ],
   "source": [
    "# a) \n",
    "# Svår - gör igen\n",
    "\n",
    "import random as rnd\n",
    "\n",
    "dice_rolls = [rnd.randrange(1,7) for _ in range(100)]\n",
    "\n",
    "count = 0\n",
    "\n",
    "for x in dice_rolls:\n",
    "    if x == 6:\n",
    "        count += 1 \n",
    "\n",
    "print(dice_rolls) \n",
    "print(f\"The amount of 6's in 100 rolls is: {count}\")\n",
    "\n",
    "\n",
    "\n"
   ]
  },
  {
   "cell_type": "code",
   "execution_count": null,
   "metadata": {},
   "outputs": [
    {
     "name": "stdout",
     "output_type": "stream",
     "text": [
      "Number of sixes is: [3, 19, 169, 1667, 16704, 166577]\n"
     ]
    }
   ],
   "source": [
    "#b - öva igen att direkt komma på den korta versionen med for-loop\n",
    "\n",
    "#dice_rolls_1 = [rnd.randrange(1,7) for _ in range(10)]\n",
    "#dice_rolls_2 = [rnd.randrange(1,7) for _ in range(100)]\n",
    "#dice_rolls_3 = [rnd.randrange(1,7) for _ in range(1000)]\n",
    "#dice_rolls_4 = [rnd.randrange(1,7) for _ in range(10000)]\n",
    "#dice_rolls_5 = [rnd.randrange(1,7) for _ in range(100000)]\n",
    "#dice_rolls_6 = [rnd.randrange(1,7) for _ in range(1000000)]\n",
    "\n",
    "#count_1 = 0\n",
    "#for x in dice_rolls_1:\n",
    "#    if x == 6:\n",
    "#        count_1 += 1 \n",
    "#count_2 = 0\n",
    "#for x in dice_rolls_2:\n",
    "#    if x == 6:\n",
    "#        count_2 += 1 \n",
    "#count_3 = 0\n",
    "#for x in dice_rolls_3:\n",
    "#    if x == 3:\n",
    "#        count_3 += 1 \n",
    "#count_4 = 0\n",
    "#for x in dice_rolls_4:\n",
    "#    if x == 6:\n",
    "#        count_4 += 1 \n",
    "#count_5 = 0\n",
    "#for x in dice_rolls_5:\n",
    "#    if x == 6:\n",
    "#        count_5 += 1 \n",
    "#count_6 = 0\n",
    "#for x in dice_rolls_6:\n",
    "#    if x == 6:\n",
    "#        count_6 += 1 \n",
    "\n",
    "\n",
    "roll_counts = [10, 100, 1000, 10000, 100000, 1000000]\n",
    "sixes = []\n",
    "\n",
    "for count in roll_counts:\n",
    "    rolls = [rnd.randrange(1,7) for _ in range(count)] \n",
    "    num_sixes = rolls.count(6)\n",
    "    sixes.append(num_sixes)\n",
    "\n",
    "print(f\"Number of sixes is: {sixes}\")\n",
    "\n",
    "\n"
   ]
  },
  {
   "cell_type": "code",
   "execution_count": null,
   "metadata": {},
   "outputs": [],
   "source": [
    "#c)\n",
    "\n",
    "import matplotlib.pyplot as plt\n",
    "\n",
    "plt.plot(     ,'--',color = 'red')\n",
    "plt.show "
   ]
  },
  {
   "cell_type": "markdown",
   "metadata": {},
   "source": [
    "--- \n",
    "## 6. Monte Carlo simulation (**)\n",
    "\n",
    "&nbsp; a) Simulate 5000 uniformly distributed points between -1 and 1, $X\\sim U(-1,1)$. Now calculate the Euclidean distances between each point and the origin (0,0), $d_i = \\sqrt{x_i^2 + y_i^2}$. For $d_i < 1$ plot the point with one color, and for $d_i > 1$ plot the point in another color, $i = \\{1,\\ldots, 5000\\}$.  (**)\n",
    "\n",
    "&nbsp; b) Calculate the fraction between number of inner points and number of outer points. What do you this will converge to when number of points reaches infinity? (**)\n",
    "\n",
    "\n",
    "<details>\n",
    "\n",
    "<summary>Hint</summary>\n",
    "\n",
    "a) \n",
    "\n",
    "Try solve this task with pen and paper before approaching to code it.\n",
    "\n",
    "b)\n",
    "\n",
    "Think in terms of theoretical areas. Also try to increase the number of simulated points, to see if you find convergence.\n",
    "\n",
    "</details>\n",
    "\n",
    "<details>\n",
    "\n",
    "<summary>Answer</summary>\n",
    "\n",
    "\n",
    "a) \n",
    "\n",
    "<img src=\"../assets/MC_simulation_5k.png\" width = 300>\n",
    "\n",
    "\n",
    "b) \n",
    "\n",
    "0.7908\n",
    "\n",
    "No answer here, try to prove it theoretically. \n",
    "\n",
    "\n",
    "</details>"
   ]
  },
  {
   "cell_type": "markdown",
   "metadata": {},
   "source": [
    "--- \n",
    "## 7. A cute rabbit among two ferocious snakes (**)\n",
    "\n",
    "There are three identical doors, behind two of them, there are ferocious snakes and behind one of them is a cute little rabbit. Your aim is to pick a door and get the cute rabbit. You start picking one door randomly and suddenly another door opens and snake slithers away *pssss*. Now you have a choice to either stay with your door or change to the remaining door. \n",
    "\n",
    "<img src=\"../assets/snakes_rabbits.png\" width = 200>\n",
    "\n",
    "&nbsp; a) What is your choice and why? (**)\n",
    "\n",
    "&nbsp; b) Randomly assign which door has the rabbit, and randomly pick an initial door. Now simulate 10, 100, 1000, 10000, 100000, 1000000 times for staying and for switching doors. Calculate the proportion of finding the rabbits for each set of simulations. Plot the results (**)\n",
    "\n",
    "\n",
    "<details>\n",
    "\n",
    "<summary>Hint</summary>\n",
    "\n",
    "a) \n",
    "\n",
    "Try to reason using probability.\n",
    "\n",
    "\n",
    "</details>\n",
    "\n",
    "<details>\n",
    "\n",
    "<summary>Answer</summary>\n",
    "\n",
    "\n",
    "a) \n",
    "\n",
    "You will simulate the answer in b).\n",
    "\n",
    "b) \n",
    "\n",
    "<img src=\"../assets/mh_simulations.png\" width = 300>\n",
    "\n",
    "\n",
    "\n",
    "</details>"
   ]
  },
  {
   "cell_type": "markdown",
   "metadata": {},
   "source": [
    "---\n",
    "\n",
    "pr0fez Giang\n",
    "\n",
    "[LinkedIn][linkedIn_pr0fez]\n",
    "\n",
    "[GitHub portfolio][github_portfolio]\n",
    "\n",
    "[linkedIn_pr0fez]: https://www.linkedin.com/in/pr0fezgiang/\n",
    "[github_portfolio]: https://github.com/pr0fez/Portfolio-pr0fez-Giang\n",
    "\n",
    "---"
   ]
  }
 ],
 "metadata": {
  "kernelspec": {
   "display_name": "DS_ENV",
   "language": "python",
   "name": "python3"
  },
  "language_info": {
   "codemirror_mode": {
    "name": "ipython",
    "version": 3
   },
   "file_extension": ".py",
   "mimetype": "text/x-python",
   "name": "python",
   "nbconvert_exporter": "python",
   "pygments_lexer": "ipython3",
   "version": "3.13.5"
  },
  "orig_nbformat": 4
 },
 "nbformat": 4,
 "nbformat_minor": 2
}
