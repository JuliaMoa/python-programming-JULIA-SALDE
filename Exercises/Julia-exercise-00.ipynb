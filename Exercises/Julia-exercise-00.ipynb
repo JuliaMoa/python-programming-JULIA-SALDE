{
 "cells": [
  {
   "cell_type": "markdown",
   "metadata": {},
   "source": [
    "# Count with Python\n",
    "\n",
    "---\n",
    "These are introductory exercises in Python for fundamental mathematics. It is important to both know mathematics as well as Python in order to understand machine learning concepts. Also a focus here is to use Python as a tool for solving mathematical problems.\n",
    "\n",
    "<p class = \"alert alert-info\" role=\"alert\"><b>Remember</b> to use <b>variables</b> in your computations </p>\n",
    "\n",
    "<p class = \"alert alert-info\" role=\"alert\"><b>Remember</b> to format your answers in a neat way using <b>f-strings</b>\n",
    "\n",
    "The number of stars (\\*), (\\*\\*), (\\*\\*\\*) denotes the difficulty level of the task\n",
    "\n",
    "---"
   ]
  },
  {
   "cell_type": "markdown",
   "metadata": {},
   "source": [
    "## 1. Pythagorean theorem (*)\n",
    "\n",
    "&nbsp; a) &nbsp;  A right angled triangle has the catheti: a = 3 and b = 4 length units. Compute the <b>hypothenuse</b> of the triangle. (*) \n",
    "  \n",
    "&nbsp; b) &nbsp;  A right angled triangle has hypothenuse c = 7.0 and a cathetus a = 5.0 length units. Compute the other cathetus and round to one decimal. (*)\n",
    "\n",
    "<img align=\"left\" src=\"../assets/right-angle-triangle.png\" width=\"200\"/>"
   ]
  },
  {
   "cell_type": "markdown",
   "metadata": {},
   "source": [
    "\n",
    "<details>\n",
    "\n",
    "<summary>Hint</summary>\n",
    "\n",
    "[Video lecture][pythagoras_video] (swedish)\n",
    "\n",
    "[pythagoras_video]: https://www.youtube.com/watch?v=3iivEnKEJ88\n",
    "\n",
    "To do square root in Python\n",
    "```python \n",
    "import math\n",
    "math.sqrt()\n",
    "```\n",
    "\n",
    "</details>\n",
    "<br>\n",
    "<details>\n",
    "\n",
    "<summary>Answer</summary>\n",
    "a) \n",
    "\n",
    "```\n",
    "The hypothenuse is 5 length units\n",
    "```\n",
    "\n",
    "b)\n",
    "\n",
    "```\n",
    "The other cathetus is 4.9 length units\n",
    "```\n",
    "\n",
    "</details>"
   ]
  },
  {
   "cell_type": "code",
   "execution_count": 9,
   "metadata": {},
   "outputs": [
    {
     "name": "stdout",
     "output_type": "stream",
     "text": [
      "The hypothenuse is 5.0 length units\n"
     ]
    }
   ],
   "source": [
    "import numpy as np\n",
    "\n",
    "a = 3\n",
    "b = 4\n",
    "hypothenuse = np.sqrt(a**2 + b**2)\n",
    "print(f\"The hypothenuse is {hypothenuse} length units\") "
   ]
  },
  {
   "cell_type": "code",
   "execution_count": 10,
   "metadata": {},
   "outputs": [
    {
     "name": "stdout",
     "output_type": "stream",
     "text": [
      "The other cathetus is 4.9\n"
     ]
    }
   ],
   "source": [
    "a = 5.0\n",
    "c = 7.0 \n",
    "x = np.sqrt(c**2 - 5.0**2)\n",
    "print(f\"The other cathetus is {np.round(x, 1)}\")"
   ]
  },
  {
   "cell_type": "code",
   "execution_count": 11,
   "metadata": {},
   "outputs": [
    {
     "ename": "NameError",
     "evalue": "name 'math' is not defined",
     "output_type": "error",
     "traceback": [
      "\u001b[31m---------------------------------------------------------------------------\u001b[39m",
      "\u001b[31mNameError\u001b[39m                                 Traceback (most recent call last)",
      "\u001b[36mCell\u001b[39m\u001b[36m \u001b[39m\u001b[32mIn[11]\u001b[39m\u001b[32m, line 4\u001b[39m\n\u001b[32m      1\u001b[39m c = \u001b[32m7.0\u001b[39m\n\u001b[32m      2\u001b[39m a = \u001b[32m5.0\u001b[39m\n\u001b[32m----> \u001b[39m\u001b[32m4\u001b[39m b = \u001b[43mmath\u001b[49m.sqrt(c**\u001b[32m2\u001b[39m - a**\u001b[32m2\u001b[39m)\n\u001b[32m      5\u001b[39m \u001b[38;5;28mprint\u001b[39m(\u001b[33mf\u001b[39m\u001b[33m\"\u001b[39m\u001b[33mb is \u001b[39m\u001b[38;5;132;01m{\u001b[39;00mb\u001b[38;5;132;01m:\u001b[39;00m\u001b[33m .lf\u001b[39m\u001b[38;5;132;01m}\u001b[39;00m\u001b[33m\"\u001b[39m) \n",
      "\u001b[31mNameError\u001b[39m: name 'math' is not defined"
     ]
    }
   ],
   "source": [
    "c = 7.0\n",
    "a = 5.0\n",
    "\n",
    "b = math.sqrt(c**2 - a**2)\n",
    "print(f\"b is {b: .lf}\") "
   ]
  },
  {
   "cell_type": "markdown",
   "metadata": {},
   "source": [
    "## 2. Classification accuracy (*)\n",
    "\n",
    "A machine learning algorithm has been trained to predict whether or not it would rain the next day. Out of 365 predictions, it got 300 correct, compute the accuracy of this model."
   ]
  },
  {
   "cell_type": "code",
   "execution_count": null,
   "metadata": {},
   "outputs": [
    {
     "name": "stdout",
     "output_type": "stream",
     "text": [
      "The accuracy is 82.19 %\n"
     ]
    }
   ],
   "source": [
    "accuracy = 300 / 365\n",
    "print(f\"The accuracy is {np.round(accuracy * 100, 2)} %\")"
   ]
  },
  {
   "cell_type": "code",
   "execution_count": null,
   "metadata": {},
   "outputs": [
    {
     "name": "stdout",
     "output_type": "stream",
     "text": [
      "The accuracy is 0.821917808219178 percent\n"
     ]
    }
   ],
   "source": [
    "acc = 300/365\n",
    "\n",
    "print(f\"The accuracy is {acc} percent\")\n",
    "\n"
   ]
  },
  {
   "cell_type": "markdown",
   "metadata": {},
   "source": [
    "---\n",
    "## 3. Classification accuracy (*)\n",
    "A machine learning model has been trained to detect fire. Here is the result of its predictions: \n",
    "\n",
    "<table align=\"left\">\n",
    "<tbody>\n",
    "  <tr>\n",
    "    <td>True Positive (TP)\n",
    "      <ul>\n",
    "        <li>Reality: fire</li>\n",
    "        <li>Predicted: fire</li>\n",
    "        <li>Number of TP: 2</li>\n",
    "      </ul>\n",
    "    </td>\n",
    "    <td>False Positive (FP)\n",
    "      <ul>\n",
    "        <li>Reality: no fire</li>\n",
    "        <li>Predicted: fire</li>\n",
    "        <li>Number of FP: 2</li>\n",
    "      </ul>\n",
    "    </td>\n",
    "  </tr>\n",
    "\n",
    "  <tr>\n",
    "    <td>False Negative (FN)\n",
    "      <ul>\n",
    "        <li>Reality: fire</li>\n",
    "        <li>Predicted: no fire</li>\n",
    "        <li>Number of FN: 11</li>\n",
    "      </ul>\n",
    "    </td>\n",
    "    <td>True Negative (TN)\n",
    "      <ul>\n",
    "        <li>Reality: no fire</li>\n",
    "        <li>Predicted: no fire</li>\n",
    "        <li>Number of TN: 985</li>\n",
    "      </ul>\n",
    "    </td>\n",
    "  </tr>\n",
    "</tbody>\n",
    "</table>"
   ]
  },
  {
   "cell_type": "markdown",
   "metadata": {},
   "source": [
    "Calculated the accuracy using the following formula:\n",
    "\n",
    "$\\text{accuracy} = \\frac{TP+TN}{TP+TN+FP+FN}$\n",
    "\n",
    "Is this a good model?\n",
    "\n",
    "<details> \n",
    "\n",
    "<summary>Hint </summary>\n",
    "\n",
    "Try to understand what it means for the actual user with each category\n",
    "\n",
    "</details>\n",
    "<br>\n",
    "<details> \n",
    "\n",
    "<summary>Answer </summary>\n",
    "\n",
    "```\n",
    "The accuracy of this model is 0.987.\n",
    "```\n",
    "\n",
    "</details>"
   ]
  },
  {
   "cell_type": "code",
   "execution_count": null,
   "metadata": {},
   "outputs": [
    {
     "name": "stdout",
     "output_type": "stream",
     "text": [
      "The accuracy is 98.7 %. It is a good model.\n"
     ]
    }
   ],
   "source": [
    "new_accuracy = (2 + 985) / (2 + 985 + 2 + 11)\n",
    "new_accuracy_percent = new_accuracy * 100\n",
    "print(f\"The accuracy is {new_accuracy_percent} %. It is a good model.\")\n",
    "      \n",
    "\n"
   ]
  },
  {
   "cell_type": "code",
   "execution_count": null,
   "metadata": {},
   "outputs": [],
   "source": [
    "#Vi vill inte ha falska negativa."
   ]
  },
  {
   "cell_type": "markdown",
   "metadata": {},
   "source": [
    "--- \n",
    "## 4. Line (*)\n",
    "Compute the slope $k$ and the constant term $m$ of this line using the points $A: (4,4)$ and $B: (0,1)$.  \n",
    "\n",
    "<img align=\"left\" src=\"../assets/line.png\" width=\"200\"/>"
   ]
  },
  {
   "cell_type": "markdown",
   "metadata": {},
   "source": [
    "<details> \n",
    "\n",
    "<summary>Hint </summary>\n",
    "\n",
    "$k = \\frac{\\Delta y}{\\Delta x} = \\frac{y_2 - y_1}{x_2 - x_1}$\n",
    "\n",
    "Either plug in one point into $y = kx + m$ and solve for $m$ or read the intersection with y-axis in the graph.\n",
    "\n",
    "[Video lecture][video_line] (Swedish)\n",
    "\n",
    "[video_line]: https://www.youtube.com/watch?v=9Buuq6rkaJ0\n",
    "\n",
    "</details>\n",
    "<br>\n",
    "<details> \n",
    "\n",
    "<summary>Solution </summary>\n",
    "\n",
    "```\n",
    "k = 0.75, m = 1, so the equation for the slope is y = 0.75x + 1\n",
    "```\n",
    "\n",
    "</details>\n"
   ]
  },
  {
   "cell_type": "code",
   "execution_count": null,
   "metadata": {},
   "outputs": [
    {
     "name": "stdout",
     "output_type": "stream",
     "text": [
      "k = 0.75 and m = 1.0\n"
     ]
    }
   ],
   "source": [
    "k = (4 - 1) / (4 - 0)\n",
    "\n",
    "\n",
    "\n",
    "# 4 = k * 4 + m \n",
    "\n",
    "m = 4 - (k*4)\n",
    "\n",
    "\n",
    "print(f\"k = {k} and m = {m}\")\n"
   ]
  },
  {
   "cell_type": "code",
   "execution_count": null,
   "metadata": {},
   "outputs": [
    {
     "name": "stdout",
     "output_type": "stream",
     "text": [
      "0.75\n"
     ]
    }
   ],
   "source": [
    "A = (4,4)\n",
    "B = (0,1)\n",
    "#tvåpunktsformeln y -y1= (y2-y1) / (x2 -x1) (x- x1)\n",
    "\n",
    "#y - 4 = ((2-4) / (0-4) (x-4))\n",
    "k = (A[1] - B[1]) / (A[0 - B[0]])\n",
    "print (k)\n",
    "# y = 0.75x + 1"
   ]
  },
  {
   "cell_type": "markdown",
   "metadata": {},
   "source": [
    "---\n",
    "## 5. Euclidean distance (*)\n",
    "\n",
    "The Euclideam distance between the points $P_1$ and $P_2$ is the length of a line between them. Let $P_1: (3,5)$ and $P_2: (-2,4)$ and compute the distance between them."
   ]
  },
  {
   "cell_type": "markdown",
   "metadata": {},
   "source": [
    "<details> \n",
    "\n",
    "<summary>Hint </summary>\n",
    "The formula is: \n",
    "\n",
    "$\\text{distance} = \\sqrt{(x_2-x_1)^2 +(y_2-y_1)^2}$\n",
    "\n",
    "[Video lecture][video_distance] (Swedish)\n",
    "\n",
    "[video_distance]: https://www.youtube.com/watch?v=DrTsKgHg7ng\n",
    "\n",
    "</details>\n",
    "<br>\n",
    "<details> \n",
    "\n",
    "<summary>Answer </summary>\n",
    "\n",
    "```\n",
    "The distance is around 5.1 length units.\n",
    "```\n",
    "\n",
    "</details>"
   ]
  },
  {
   "cell_type": "code",
   "execution_count": null,
   "metadata": {},
   "outputs": [
    {
     "ename": "NameError",
     "evalue": "name 'np' is not defined",
     "output_type": "error",
     "traceback": [
      "\u001b[31m---------------------------------------------------------------------------\u001b[39m",
      "\u001b[31mNameError\u001b[39m                                 Traceback (most recent call last)",
      "\u001b[36mCell\u001b[39m\u001b[36m \u001b[39m\u001b[32mIn[5]\u001b[39m\u001b[32m, line 1\u001b[39m\n\u001b[32m----> \u001b[39m\u001b[32m1\u001b[39m distance = \u001b[43mnp\u001b[49m.sqrt((\u001b[32m3\u001b[39m+\u001b[32m2\u001b[39m)**\u001b[32m2\u001b[39m + (\u001b[32m5\u001b[39m-\u001b[32m4\u001b[39m)**\u001b[32m2\u001b[39m)\n\u001b[32m      2\u001b[39m \u001b[38;5;28mprint\u001b[39m(\u001b[33mf\u001b[39m\u001b[33m\"\u001b[39m\u001b[33mThe distance is \u001b[39m\u001b[38;5;132;01m{\u001b[39;00mnp.round(distance,\u001b[38;5;250m \u001b[39m\u001b[32m2\u001b[39m)\u001b[38;5;132;01m}\u001b[39;00m\u001b[33m length units\u001b[39m\u001b[33m\"\u001b[39m)\n",
      "\u001b[31mNameError\u001b[39m: name 'np' is not defined"
     ]
    }
   ],
   "source": [
    "distance = np.sqrt((3+2)**2 + (5-4)**2)\n",
    "print(f\"The distance is {np.round(distance, 2)} length units\")"
   ]
  },
  {
   "cell_type": "code",
   "execution_count": 13,
   "metadata": {},
   "outputs": [],
   "source": [
    "P = (3,5)\n",
    "Q = (-2, 4)\n",
    "\n",
    "p1 = 3\n",
    "p2 = 5\n",
    "q1 = -2\n",
    "q2 = 4\n",
    "\n",
    "d = np.sqrt((p1-q1)**2 + (p2-q2)**2)\n",
    "print = d \n"
   ]
  },
  {
   "cell_type": "markdown",
   "metadata": {},
   "source": [
    "---\n",
    "## 6. Euclidean distance in 3D (**)\n",
    "\n",
    "Calculate the distance between the points $P_1: (2,1,4)$ and $P_2: (3,1,0)$ \n",
    "\n",
    "<details> \n",
    "\n",
    "<summary>Hint </summary>\n",
    "\n",
    "Let $p =(p_1, p_2, p_3)$ and $q = (q_1, q_2, q_3) \\Rightarrow$   \n",
    "\n",
    "$d(p,q) = \\sqrt{(p_1-q_1)^2 +(p_2-q_2)^2 +(p_3-q_3)^2 }$, where $d(p,q)$ is the Euclidean distance between $p$ and $q$\n",
    "\n",
    "</details>\n",
    "<br>\n",
    "<details> \n",
    "\n",
    "<summary>Answer </summary>\n",
    "\n",
    "```\n",
    "The distance is around 4.12 l.u.\n",
    "```\n",
    "\n",
    "</details>"
   ]
  },
  {
   "cell_type": "code",
   "execution_count": null,
   "metadata": {},
   "outputs": [
    {
     "name": "stdout",
     "output_type": "stream",
     "text": [
      "The distance is around 4.12 length units\n"
     ]
    }
   ],
   "source": [
    "# p = ()\n",
    "# with lists  \n",
    "\n",
    "p = [2, 1, 4]\n",
    "q = [3, 1, 0]\n",
    "\n",
    "d = np.sqrt((p[0]-q[0])**2 + (p[1]-q[1])**2 + (p[2]-q[2])**2)\n",
    "print(f\"The distance is around {np.round (d, 2)} length units\")\n"
   ]
  },
  {
   "cell_type": "code",
   "execution_count": null,
   "metadata": {},
   "outputs": [],
   "source": [
    "(p1, p2, p3) = (2, 3, 4)\n",
    "(q1, q2, q3) = (3, 1, 0)\n",
    "\n",
    "print(math.sqrt((p1-q1)**2))"
   ]
  },
  {
   "cell_type": "markdown",
   "metadata": {},
   "source": [
    "---\n",
    "\n",
    "Raphael Korsoski\n",
    "\n",
    "[LinkedIn][linkedIn_pr0fez]\n",
    "\n",
    "[GitHub portfolio][github_portfolio]\n",
    "\n",
    "[linkedIn_pr0fez]: https://www.linkedin.com/in/raphael-korsoski-3924691a/\n",
    "[github]: https://github.com/pr0fez/\n",
    "\n",
    "---"
   ]
  }
 ],
 "metadata": {
  "kernelspec": {
   "display_name": "DS_ENV",
   "language": "python",
   "name": "python3"
  },
  "language_info": {
   "codemirror_mode": {
    "name": "ipython",
    "version": 3
   },
   "file_extension": ".py",
   "mimetype": "text/x-python",
   "name": "python",
   "nbconvert_exporter": "python",
   "pygments_lexer": "ipython3",
   "version": "3.13.5"
  },
  "orig_nbformat": 4
 },
 "nbformat": 4,
 "nbformat_minor": 2
}
